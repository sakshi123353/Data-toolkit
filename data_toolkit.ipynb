{
  "nbformat": 4,
  "nbformat_minor": 0,
  "metadata": {
    "colab": {
      "provenance": []
    },
    "kernelspec": {
      "name": "python3",
      "display_name": "Python 3"
    },
    "language_info": {
      "name": "python"
    }
  },
  "cells": [
    {
      "cell_type": "markdown",
      "source": [
        " 1 What is NumPy, and why is it widely used in Python?\n",
        "  -  NumPy (Numerical Python) is a powerful library in Python primarily used for working with large, multi-dimensional arrays and matrices, along with a collection of mathematical functions to operate on these arrays. It is widely used in scientific computing, data analysis, machine learning, and engineering because of its efficiency and ease of use\n",
        "\n",
        "   Here’s why NumPy is so widely used:\n",
        "1. Efficient Array Handling: NumPy provides an ndarray object, which is a fast and memory-efficient multi-dimensional array. This is essential when working with large datasets, as it allows for much faster computation than using standard Python lists.\n",
        "\n",
        "2.Vectorization: NumPy supports vectorized operations, meaning that it can apply operations to entire arrays at once without the need for explicit loops. This greatly improves performance and code readability.\n",
        "\n",
        "3.Broad Functionality: It includes many functions for mathematical, statistical, and logical operations on arrays, such as trigonometric functions, linear algebra, and random number generation.\n",
        "\n",
        "4.Interoperability: NumPy integrates well with other libraries like Pandas, SciPy, and Matplotlib, making it a core component of the Python scientific computing stack.\n",
        "\n",
        "5.Memory Efficiency: Unlike regular Python lists, NumPy arrays consume much less memory. This is crucial when dealing with large data in scientific applications.\n",
        "\n",
        "6.Support for Multi-dimensional Arrays: NumPy allows you to easily work with matrices, tensors, and multi-dimensional arrays, which is particularly important in fields like machine learning and data science.\n",
        "\n",
        "\n"
      ],
      "metadata": {
        "id": "oN3cTy-yR_2k"
      }
    },
    {
      "cell_type": "markdown",
      "source": [
        "2. how does broad casting working numpy\n",
        "  \n",
        " - Broadcasting in NumPy allows arrays of different shapes to be used in element-wise operations without explicit replication. The rules are:\n",
        "\n",
        "Trailing dimensions must be the same or one must be 1.\n",
        "Smaller arrays are padded with ones on the left to match dimensions.\n",
        "Dimensions with size 1 are broadcast over the corresponding dimension of the other array.\n",
        "Example :\n",
        "\n",
        "import numpy as np\n",
        "\n",
        "arr1 = np.array([1, 2, 3])  # Shape (3,)\n",
        "\n",
        "scalar = 5\n",
        "\n",
        "print(arr1 + scalar)  # Output: [6 7 8]\n",
        "\n",
        "\n",
        "arr2 = np.array([[1, 2, 3], [4, 5, 6]])  # Shape (2, 3)\n",
        "\n",
        "arr3 = np.array([1, 2, 3])  # Shape (3,)\n",
        "\n",
        "print(arr2 + arr3)  # Output: [[2 4 6] [5 7 9]]\n"
      ],
      "metadata": {
        "id": "Kz5PT_GkUasK"
      }
    },
    {
      "cell_type": "markdown",
      "source": [],
      "metadata": {
        "id": "bM4OYvBCiu5f"
      }
    },
    {
      "cell_type": "markdown",
      "source": [
        " 3. what is a pandas dataframe\n",
        "\n",
        "   - A Pandas DataFrame is a two-dimensional, table-like data structure in Python that stores data in rows and columns. It can hold different data types in each column and allows for easy manipulation, such as filtering, sorting, and aggregating data.\n",
        "\n",
        "Example:\n",
        "\n",
        "import pandas as pd\n",
        "\n",
        "data = {'Name': ['Alice', 'Bob'], 'Age': [25, 30]}\n",
        "\n",
        "df = pd.DataFrame(data)\n",
        "\n",
        "print(df)\n",
        "\n",
        "Output:\n",
        "\n",
        "markdown\n",
        "\n",
        "    Name  Age\n",
        "\n",
        "0  Alice   25\n",
        "\n",
        "1    Bob   30\n",
        "\n",
        "\n"
      ],
      "metadata": {
        "id": "K0GVKnBOV6gW"
      }
    },
    {
      "cell_type": "markdown",
      "source": [
        "4. Explain the use of the groupby() method in Pandas\n",
        "  - The groupby() method in Pandas is used to split data into groups based on a column(s), apply a function to each group, and then combine the results.\n",
        "\n",
        "Basic Steps:\n",
        "\n",
        "Split: Group data by one or more columns.\n",
        "\n",
        "Apply: Perform an operation (e.g., sum(), mean()) on each group.\n",
        "\n",
        "Combine: Combine the results back into a DataFrame or Series.\n",
        "\n",
        "Example:\n",
        "\n",
        "import pandas as pd\n",
        "\n",
        "# Sample DataFrame\n",
        "data = {'Name': ['Alice', 'Bob', 'Charlie', 'David'],\n",
        "\n",
        "        'Department': ['HR', 'IT', 'HR', 'IT'],\n",
        "\n",
        "        'Salary': [50000, 60000, 55000, 70000]}\n",
        "\n",
        "df = pd.DataFrame(data)\n",
        "\n",
        "# Group by 'Department' and calculate the mean salary\n",
        "\n",
        "grouped = df.groupby('Department')['Salary'].mean()\n",
        "\n",
        "print(grouped)\n",
        "\n",
        "Output:\n",
        "\n",
        "Department\n",
        "\n",
        "HR    52500.0\n",
        "\n",
        "IT    65000.0\n",
        "\n",
        "Name: Salary, dtype: float64\n",
        "\n",
        "\n",
        "\n",
        "\n",
        "\n"
      ],
      "metadata": {
        "id": "wkQC5kItZ-io"
      }
    },
    {
      "cell_type": "markdown",
      "source": [
        " 5.Why is seaborn preferred for statistical  visualisation ?\n",
        "  - Seaborn is preferred for statistical visualization because it offers:\n",
        "\n",
        "1.Built-in Statistical Functions: Simplifies creating plots with statistical insights (e.g., regression lines, distributions).\n",
        "\n",
        "2.User-Friendly API: High-level interface that reduces code complexity.\n",
        "\n",
        "3.Aesthetic Plots: Beautiful default themes and color palettes.\n",
        "\n",
        "4.Integration with Pandas: Directly works with Pandas DataFrames.\n",
        "\n",
        "5.Handling Complex Data: Easily visualizes relationships in large datasets.\n",
        "\n",
        "6.Categorical Data Support: Effectively visualizes categorical data and relationships.\n",
        "\n",
        "7.Statistical Insights: Automatically adds features like confidence intervals and regression lines.\n",
        "\n",
        "8.Faceted Plots: Allows creation of multi-panel visualizations for detailed data exploration."
      ],
      "metadata": {
        "id": "rlvykatKdHRj"
      }
    },
    {
      "cell_type": "markdown",
      "source": [
        "\n",
        " 6. what is the difference between numpy array and python ?\n",
        "\n",
        "| **Feature**              | **NumPy Array**                          | **Python List**                          |\n",
        "|--------------------------|------------------------------------------|------------------------------------------|\n",
        "| **Data Type**            | Must be the same type for all elements   | Can hold different data types           |\n",
        "| **Performance**          | Faster for numerical operations          | Slower for numerical tasks              |\n",
        "| **Memory Efficiency**    | More efficient for large datasets        | Less memory-efficient                    |\n",
        "| **Functionality**        | Supports advanced math operations        | Basic operations, no built-in math      |\n",
        "| **Multidimensional Data**| Easy handling of multi-dimensional data  | Less efficient for multi-dimensional data|\n"
      ],
      "metadata": {
        "id": "PRhpd2pEfWpz"
      }
    },
    {
      "cell_type": "markdown",
      "source": [
        "7. what is heatmap and when it should be used ?\n",
        "\n",
        "   - A heatmap is a data visualization tool that uses color to represent values in a matrix or grid, with colors indicating the intensity or frequency of data points.\n",
        "\n",
        "\n",
        "When to Use:\n",
        "\n",
        "1.Exploring correlations between variables (e.g., in a correlation matrix).\n",
        "\n",
        "2.Displaying density or intensity, like user clicks on a website or traffic patterns.\n",
        "\n",
        "3.Identifying trends over time, such as sales or temperature changes.\n",
        "\n",
        "4.Visualizing large data **sets** in matrices or tables, such as gene expression data.\n",
        "\n",
        "5.Analyzing financial or sports data for performance insights."
      ],
      "metadata": {
        "id": "iPdiMwlafdl7"
      }
    },
    {
      "cell_type": "markdown",
      "source": [
        "8. what does the term \"vectorized opration \" mean in python ?\n",
        "    - In Python, vectorized operations refer to performing operations on entire arrays or data structures (like lists or DataFrames) without using explicit loops. Libraries like NumPy enable this by applying element-wise operations efficiently in compiled code, making them much faster than Python loops. This leads to cleaner, more concise, and faster code.\n",
        "\n",
        "Example:\n",
        "\n",
        "import numpy as np\n",
        "\n",
        "a = np.array([1, 2, 3, 4])\n",
        "\n",
        "b = np.array([10, 20, 30, 40])\n",
        "\n",
        "c = a + b  # Vectorized addition\n",
        "\n",
        "print(c)  # Output: [11 22 33 44]"
      ],
      "metadata": {
        "id": "JY98pq3_gewC"
      }
    },
    {
      "cell_type": "markdown",
      "source": [
        "9. How does matplotlib differ from plotly ?\n",
        "   - Matplotlib: Primarily for static plots (e.g., PNG, SVG), offers fine-grained customization, and is great for publication-quality visuals. It’s less interactive and requires more code for complex visualizations.\n",
        "\n",
        "  - Plotly: Designed for interactive, web-based plots (e.g., zoom, hover). It's easy to use, supports advanced visualizations like 3D plots and maps, and integrates well with web apps. Ideal for dashboards and dynamic data exploration.\n",
        "\n",
        "  - Summary: Use Matplotlib for static, high-quality plots; use Plotly for interactive and web-friendly visualizations.\n",
        "\n",
        "*   List item\n",
        "*   List item\n",
        "\n"
      ],
      "metadata": {
        "id": "mDq29DowhN3l"
      }
    },
    {
      "cell_type": "markdown",
      "source": [
        "10. what is the significance of hierarchical in Pandas ?\n",
        "  - Hierarchical indexing in Pandas (also known as MultiIndex) allows for multiple levels of indexing, making it easier to handle complex, multi-dimensional data. It enables efficient grouping, slicing, and aggregation across different index levels, improving data access and manipulation. Key benefits include:\n",
        "\n",
        "  - Organizing complex data with multiple dimensions.\n",
        "Simplified grouping and aggregation at multiple levels.\n",
        "Advanced operations like stacking, unstacking, and pivoting.\n",
        "Improved data access by selecting specific parts using multi-level indexing.\n",
        "In essence, it helps work with and analyze structured data more efficiently"
      ],
      "metadata": {
        "id": "QwY3tFGcjS34"
      }
    },
    {
      "cell_type": "markdown",
      "source": [
        "11. what is the role of the seaborn's pairplot() function ?\n",
        "  -  The seaborn.pairplot() function is used to create a grid of scatter plots (or other plots) that shows relationships between pairs of variables in a dataset. It is useful for visualizing the pairwise relationships and distributions of variables, helping you to identify patterns, correlations, and potential outliers.\n",
        "\n",
        "    - Key Features of pairplot():\n",
        " 1.Pairwise Scatter Plots: It generates scatter plots for each pair of numeric variables in the dataset.\n",
        "\n",
        " 2.Histogram/Kernel Density Estimation (KDE) Diagonal: On the diagonal of the grid, pairplot() can display histograms or kernel density plots to show the univariate distribution of each variable.\n",
        "\n",
        " 3.Color Coding: You can color the points based on a categorical variable, which allows you to see how different categories relate to each other.\n",
        "\n",
        " 4.Customizable: You can adjust the plot type (scatter, KDE, etc.), add regression lines, change colors, and customize axes.  "
      ],
      "metadata": {
        "id": "WsBT7bwbkSRF"
      }
    },
    {
      "cell_type": "markdown",
      "source": [
        "12. What is the purpose of the describe() function in Pandas?\n",
        "\n",
        " - In Pandas, the describe() function provides a quick overview of the summary statistics for numerical (and sometimes categorical) columns in a DataFrame. It helps to understand the distribution and key metrics of the data, such as:\n",
        "\n",
        "- count: The number of non-null values.\n",
        "\n",
        "- mean: The average of the data.\n",
        "\n",
        "- std: The standard deviation, which measures the spread of the data.\n",
        "\n",
        "- min: The minimum value.\n",
        "\n",
        "- 25%: The first quartile (25th percentile).\n",
        "\n",
        "- 50%: The median or second quartile (50th percentile).\n",
        "\n",
        "- 75%: The third quartile (75th percentile).\n",
        "\n",
        "- max: The maximum value.\n",
        "\n",
        "For categorical data, describe() provides a summary including:\n",
        "\n",
        "- count: Number of non-null entries.\n",
        "\n",
        "- unique: The number of unique values.\n",
        "\n",
        "- top: The most frequent value.\n",
        "\n",
        "- freq: The frequency of the most frequent value.\n",
        "\n",
        "Here’s an example:\n",
        "\n",
        "import pandas as pd\n",
        "\n",
        "# Example DataFrame\n",
        "\n",
        "df = pd.DataFrame({\n",
        "\n",
        "    'Age': [23, 45, 22, 34, 23, 30],\n",
        "\n",
        "    'Salary': [50000, 80000, 45000, 60000, 55000, 65000]\n",
        "\n",
        "})\n",
        "\n",
        "# Calling describe()\n",
        "\n",
        "print(df.describe())\n"
      ],
      "metadata": {
        "id": "XPFj1pr9ix4o"
      }
    },
    {
      "cell_type": "markdown",
      "source": [
        "13. Why is handling missing data important in Pandas?\n",
        "\n",
        "> [Add blockquote](https://)\n",
        "\n",
        "\n",
        "   - Handling missing data is important in Pandas (and in data analysis in general) for several key reasons:\n",
        "\n",
        "- Data Quality: Missing data can lead to inaccurate analysis, which affects the quality and reliability of your insights. If missing values are not addressed, they might skew results, especially in statistical calculations, machine learning models, or when generating summary statistics.\n",
        "\n",
        "- Impact on Algorithms: Many machine learning algorithms or statistical functions do not handle missing data natively or may perform poorly when missing values are present. For example, a model may crash or produce biased predictions if it encounters missing values during training or prediction. Properly handling missing data ensures the algorithms can function correctly.\n",
        "\n",
        "- Preventing Errors: Pandas operations may throw errors or produce misleading results if they encounter missing data without proper handling. For instance, if you perform an aggregation or transformation on a column with missing values, it might lead to NaN (Not a Number) results or errors.\n",
        "\n",
        "- Improving Model Accuracy: Handling missing data by imputation (filling in the missing values) or by removing rows/columns can help improve the performance of machine learning models. Proper imputation or filling strategies can lead to more accurate predictions, as the model will not have to deal with the inconsistencies caused by missing values.\n",
        "\n",
        "- Consistency: Data can come from multiple sources, and missing data is common when merging datasets. Handling missing values ensures that the merged dataset is clean and consistent, reducing the risk of introducing errors during analysis.\n",
        "\n",
        "  - Common Strategies to Handle Missing Data in Pandas:\n",
        "\n",
        "- Removing missing data: Use dropna() to remove rows or columns with missing values.\n",
        "- Filling missing data: Use fillna() to fill in missing values with a specific value, mean, median, mode, or through interpolation.\n",
        "- Imputation: More advanced methods involve statistical imputation or using machine learning algorithms to predict missing values based on available data.\n"
      ],
      "metadata": {
        "id": "UixDn23XlVEX"
      }
    },
    {
      "cell_type": "markdown",
      "source": [
        "14. What are the benefits of using Plotly for data visualization\n",
        "\n",
        " - Plotly offers several benefits for data visualization:\n",
        "\n",
        "1.Interactive Visualizations: Allows zooming, hovering, and dynamic updates, enhancing data exploration.\n",
        "\n",
        "2.High-Quality Graphics: Produces clean, customizable, publication-ready visuals.\n",
        "\n",
        "3.Wide Range of Charts: Supports diverse chart types like scatter plots, bar charts, heatmaps, and 3D plots.\n",
        "\n",
        "4.Web-Ready: Easily integrates into web apps and dashboards for sharing interactive plots.\n",
        "\n",
        "5.Ease of Use: Intuitive syntax, works well with Python, R, and other data analysis libraries.\n",
        "\n",
        "6.Customization: Highly customizable for fine-tuning visuals.\n",
        "\n",
        "7.Multiple Language Support: Available for Python, R, JavaScript, and more.\n",
        "\n",
        "8.Export Options: Supports exporting charts as images or HTML for easy sharing.\n",
        "\n",
        "9.Community & Documentation: Strong resources for learning and troubleshooting.\n"
      ],
      "metadata": {
        "id": "L4ZKrSRqp2WJ"
      }
    },
    {
      "cell_type": "markdown",
      "source": [
        "15.  How does NumPy handle multidimensional arrays?\n",
        "  - NumPy handles multidimensional arrays using the ndarray object, which allows efficient storage and manipulation of arrays with any number of dimensions. Key features include:\n",
        "\n",
        "1.Shape and Dimensions: The shape is a tuple representing the size in each dimension (e.g., (3, 4) for a 2D array with 3 rows and 4 columns).\n",
        "\n",
        "2.Indexing and Slicing: Arrays can be indexed with tuples (e.g., arr[row, col]) and sliced in multiple dimensions.\n",
        "\n",
        "3.Efficient Storage: NumPy arrays are stored contiguously in memory for fast operations, unlike Python lists.\n",
        "\n",
        "4.Operations: Supports element-wise operations and broadcasting (e.g., adding a 1D array to a 2D array).\n",
        "\n",
        "Example:\n",
        "\n",
        "import numpy as np\n",
        "\n",
        "arr = np.array([[1, 2], [3, 4]])\n",
        "\n",
        "print(arr[0, 1])  # Output: 2\n",
        "\n",
        "print(arr + 10)   # Add 10 to each element\n"
      ],
      "metadata": {
        "id": "Vmkd9Xk7uQlx"
      }
    },
    {
      "cell_type": "markdown",
      "source": [
        "16. What is the role of Bokeh in data visualization\n",
        "\n",
        "Bokeh is a powerful and flexible Python library used for creating interactive and visually appealing data visualizations. Its primary role is to provide tools that allow users to build interactive, web-ready visualizations without needing to rely on external JavaScript or web development skills. Here are some key roles that Bokeh plays in data visualization:\n",
        "\n",
        "1.Interactive Visualizations: Bokeh allows you to create plots that respond to user interactions. You can create plots with zooming, panning, hovering, and linking multiple plots together. This makes it particularly useful for exploring large datasets where the user can dynamically adjust views and analyze different subsets of data.\n",
        "\n",
        "2.Web Integration: Bokeh generates HTML and JavaScript outputs, which means the visualizations can be easily embedded in web applications, dashboards, or standalone web pages. This is especially useful for deploying data visualizations in online reports or web-based data analysis tools.\n",
        "\n",
        "3.Rich Plot Types: Bokeh provides a wide variety of plot types such as scatter plots, line plots, bar charts, heatmaps, and geographic maps. It also allows customization of various chart attributes, such as axes, labels, tooltips, and more.\n",
        "\n",
        "4.Real-time Data Streaming: Bokeh supports real-time data streaming, making it ideal for visualizing live data. This can be useful for applications such as monitoring, IoT dashboards, or financial data visualization where real-time updates are crucial.\n",
        "\n",
        "5.Integration with Other Libraries: Bokeh integrates well with other Python libraries such as NumPy, pandas, and Dask, allowing you to work with datasets in familiar formats. It can also be used in conjunction with other visualization libraries like Matplotlib and Seaborn to add interactivity.\n",
        "\n",
        "6.Customization and Theming: Bokeh offers advanced customization options, allowing you to fine-tune aspects of your visualizations, such as color schemes, plot layouts, and themes. It gives you control over the look and feel of the plots.\n",
        "\n",
        "7.Embeddability: Bokeh visualizations can be embedded in Jupyter Notebooks, Python applications, or web frameworks such as Flask and Django, offering flexibility in how and where you deploy your visualizations.\n",
        "\n"
      ],
      "metadata": {
        "id": "sgl1M4CwzwDJ"
      }
    },
    {
      "cell_type": "markdown",
      "source": [
        "17. Explain the difference between apply() and map() in Pandas.\n",
        "  - In Pandas:\n",
        "\n",
        "- apply():\n",
        "\n",
        " - Used on DataFrames and Series.\n",
        " - Can apply a function along rows or columns (axis argument).\n",
        " - More flexible, suitable for complex operations.\n",
        "- map():\n",
        "\n",
        "  - Used only on Series.\n",
        "  - Applies a function or maps values using a dictionary or function.\n",
        "  - Less flexible than apply().\n",
        "- Key Differences:\n",
        "  - apply() works on both DataFrames and Series, while map() is for Series only.\n",
        "  - apply() supports row/column operations with axis, map() is element-wise on Series.\n"
      ],
      "metadata": {
        "id": "hsN626T414iJ"
      }
    },
    {
      "cell_type": "markdown",
      "source": [
        "18. What are some advanced features of NumPy\n",
        "  - Broadcasting: Allows operations on arrays of different shapes without explicit replication.\n",
        " - Vectorization: Optimizes code by performing element-wise operations without loops.\n",
        " - Fancy Indexing: Index arrays with other arrays or conditions.\n",
        "Linear Algebra: Includes matrix multiplication, eigenvalues, and solving systems of linear equations.\n",
        " - Strides and Memory Views: Efficiently manipulate data without copying it by changing memory access patterns.\n",
        " - Masked Arrays: Handle invalid or missing data by \"masking\" certain array elements.\n",
        " - ufuncs (Universal Functions): Perform element-wise operations efficiently with parallelization.\n",
        " - Random Sampling: Generate random numbers and samples from various distributions.\n",
        " - Array Manipulation: Reshape, concatenate, and stack arrays efficiently.\n",
        "Polynomials: Work with polynomials for fitting, evaluation, and root-finding.\n",
        " - Integration/Differentiation: Perform numerical integration and differentiation.\n",
        " - Parallel Computing: Use libraries like Dask or CuPy to parallelize operations.\n",
        " - Structured Arrays: Define custom data types with fields of different types in arrays.\n"
      ],
      "metadata": {
        "id": "Y8AX-MpL5d0v"
      }
    },
    {
      "cell_type": "markdown",
      "source": [
        "19.A How does Pandas simplify time series analysis?\n",
        "  - Pandas simplifies time series analysis in several ways:\n",
        "\n",
        "1.Datetime Handling: Uses DatetimeIndex for easy time-based indexing and slicing.\n",
        "2.Resampling: Allows you to change time frequencies (e.g., daily to monthly) using resample().\n",
        "3.Time-based Indexing: Easily slice and query data by specific time periods (e.g., df['2020']).\n",
        "4.Shifting: Use shift() for comparing time periods or calculating differences.\n",
        "Time Zone Support: Handles time zone-aware datetime objects.\n",
        "5.Rolling Calculations: Perform rolling window calculations (e.g., moving averages) with rolling().\n",
        "6.Missing Data: Handles missing values with fillna() or forward/backward filling.\n",
        "7.Feature Extraction: Easily extract date-based features like year, month, weekday using .dt.\n",
        "8.Visualization: Quickly plot time series data using plot()"
      ],
      "metadata": {
        "id": "-nQJT4GA6P70"
      }
    },
    {
      "cell_type": "markdown",
      "source": [
        "20. What is the role of a pivot table in Pandas\n",
        "   - In Pandas, a pivot table is used to summarize, aggregate, and reorganize data. It helps transform data from a long format to a wide format, making it easier to analyze patterns and trends.\n",
        "\n",
        "Key Roles:\n",
        "\n",
        "1.Data Aggregation: Allows you to aggregate data (e.g., sum, mean) based on specific columns.\n",
        "\n",
        "2.Reshape Data: Converts data from a long format to a wide format.\n",
        "\n",
        "3.Data Summarization: Quickly summarizes complex data.\n",
        "\n",
        "4.Flexible Grouping: Groups data by multiple columns.\n",
        "\n",
        "Example:\n",
        "\n",
        "pivot = pd.pivot_table(df, values='Sales', index='Date', columns='Product', aggfunc='sum')\n",
        "\n",
        "This groups sales by Date and Product, summing the sales.\n",
        "\n",
        "\n",
        "\n",
        "\n",
        "\n"
      ],
      "metadata": {
        "id": "yw13qOoRTlOJ"
      }
    },
    {
      "cell_type": "markdown",
      "source": [
        "21.Why is NumPy’s array slicing faster than Python’s list slicing ?\n",
        "  - NumPy's array slicing is faster than Python's list slicing primarily due to the following reasons:\n",
        "\n",
        "1.Contiguous Memory Layout:\n",
        "\n",
        " - NumPy arrays are stored in a contiguous block of memory (in a low-level, efficient format). When slicing, NumPy can create a view of the data, which means it doesn’t need to copy the data. Instead, it just points to the relevant part of the memory. This avoids memory overhead and the computational cost of copying elements.\n",
        " - Python lists, on the other hand, are arrays of pointers (or references) to objects, and they do not have a contiguous memory layout. When slicing lists, Python may need to create a new list and copy elements from the original list into it.\n",
        "\n",
        "2.Optimized C Implementation:\n",
        "\n",
        "- NumPy is built on top of C and Fortran, which allows it to take advantage of low-level optimizations for operations like slicing. The array operations in NumPy are implemented in highly optimized C code, which is much faster than Python's dynamic list operations.\n",
        "- Python lists are implemented in Python itself, which is an interpreted language. This makes list slicing slower due to the overhead of the Python interpreter.\n",
        "\n",
        "3.No Type Checking Overhead in NumPy:\n",
        "\n",
        "- NumPy .arrays have a fixed type (e.g., int32, float64), which allows NumPy to perform operations on them without additional type checking or dynamic type management.\n",
        "- Python lists can hold elements of different types, and the interpreter must 4.handle this flexibility during operations, introducing extra overhead.\n",
        "\n",
        "4.View vs Copy:\n",
        "\n",
        "- In NumPy, slicing an array often returns a \"view\" (a reference to the original array) rather than a new copy. This means that no data needs to be copied, and the slicing operation is a lightweight operation.\n",
        "- In Python lists, slicing generally creates a new list that contains the copied elements, which requires allocating new memory and copying data.\n"
      ],
      "metadata": {
        "id": "wMurluPtbKB3"
      }
    },
    {
      "cell_type": "markdown",
      "source": [
        "22.What are some common use cases for Seaborn?\n",
        "   - Seaborn is commonly used for:\n",
        "\n",
        "1.Distribution Visualization: Histograms, box plots, and violin plots to explore data distributions.\n",
        "\n",
        "2.Relationship Exploration: Scatter plots, pair plots, and heatmaps for visualizing relationships between variables.\n",
        "\n",
        "3.Categorical Data: Bar plots, count plots, and swarm plots for visualizing categorical data distributions.\n",
        "\n",
        "4.Regression: Linear regression plots (regplot()) to visualize trends and model fits.\n",
        "\n",
        "5.Time Series: Line plots to visualize temporal data.\n",
        "\n",
        "6.Correlation: Heatmaps for displaying correlation matrices.\n",
        "\n",
        "7.Multivariate Data: Pair plots for exploring multiple variables together.\n",
        "\n",
        "8.Statistical Visualization: Plots with statistical overlays for deeper insights."
      ],
      "metadata": {
        "id": "Kx5Ca8zHear9"
      }
    },
    {
      "cell_type": "code",
      "source": [
        "import numpy as np\n",
        "\n",
        "# Create a 2D NumPy array\n",
        "arr = np.array([[1, 2, 3], [4, 5, 6], [7, 8, 9]])\n",
        "\n",
        "# Calculate the sum of each row\n",
        "row_sums = arr.sum(axis=1)\n",
        "\n",
        "print(\"2D Array:\")\n",
        "print(arr)\n",
        "\n",
        "print(\"\\nSum of each row:\")\n",
        "print(row_sums)\n"
      ],
      "metadata": {
        "colab": {
          "base_uri": "https://localhost:8080/"
        },
        "id": "OGgNdoTkfW9X",
        "outputId": "c9d674ee-377b-4bd8-ec3d-56516024b750"
      },
      "execution_count": null,
      "outputs": [
        {
          "output_type": "stream",
          "name": "stdout",
          "text": [
            "2D Array:\n",
            "[[1 2 3]\n",
            " [4 5 6]\n",
            " [7 8 9]]\n",
            "\n",
            "Sum of each row:\n",
            "[ 6 15 24]\n"
          ]
        }
      ]
    },
    {
      "cell_type": "code",
      "source": [],
      "metadata": {
        "id": "eEKwhhYjfppL"
      },
      "execution_count": null,
      "outputs": []
    },
    {
      "cell_type": "code",
      "source": [
        "import pandas as pd\n",
        "\n",
        "# Sample DataFrame\n",
        "data = {\n",
        "    'A': [1, 2, 3, 4, 5],\n",
        "    'B': [10, 20, 30, 40, 50]\n",
        "}\n",
        "\n",
        "# Create DataFrame\n",
        "df = pd.DataFrame(data)\n",
        "\n",
        "# Find the mean of column 'A'\n",
        "mean_value = df['A'].mean()\n",
        "\n",
        "# Print the mean value\n",
        "print(f\"The mean of column 'A' is: {mean_value}\")\n"
      ],
      "metadata": {
        "colab": {
          "base_uri": "https://localhost:8080/"
        },
        "id": "y__pctfzfqMY",
        "outputId": "11289ec1-d4de-4468-af78-64cbcf7d6d81"
      },
      "execution_count": null,
      "outputs": [
        {
          "output_type": "stream",
          "name": "stdout",
          "text": [
            "The mean of column 'A' is: 3.0\n"
          ]
        }
      ]
    },
    {
      "cell_type": "code",
      "source": [
        "import matplotlib.pyplot as plt\n",
        "import numpy as np\n",
        "\n",
        "# Generating random data for scatter plot\n",
        "x = np.random.rand(50)\n",
        "y = np.random.rand(50)\n",
        "\n",
        "# Creating scatter plot\n",
        "plt.scatter(x, y)\n",
        "\n",
        "# Adding titles and labels\n",
        "plt.title('Scatter Plot Example')\n",
        "plt.xlabel('X Values')\n",
        "plt.ylabel('Y Values')\n",
        "\n",
        "# Display the plot\n",
        "plt.show()\n"
      ],
      "metadata": {
        "colab": {
          "base_uri": "https://localhost:8080/",
          "height": 472
        },
        "id": "StfBrBeSh0Kc",
        "outputId": "65471ba7-a58c-4bf6-e38c-7ac95fc2528f"
      },
      "execution_count": null,
      "outputs": [
        {
          "output_type": "display_data",
          "data": {
            "text/plain": [
              "<Figure size 640x480 with 1 Axes>"
            ],
            "image/png": "[encoded data removed]"
          },
          "metadata": {}
        }
      ]
    },
    {
      "cell_type": "code",
      "source": [
        "import plotly.graph_objects as go\n",
        "\n",
        "# Sample data\n",
        "categories = ['A', 'B', 'C', 'D', 'E']\n",
        "values = [10, 14, 18, 24, 30]\n",
        "\n",
        "# Create the bar plot\n",
        "fig = go.Figure(data=[go.Bar(x=categories, y=values)])\n",
        "\n",
        "# Customize layout (optional)\n",
        "fig.update_layout(\n",
        "    title=\"Sample Bar Plot\",\n",
        "    xaxis_title=\"Categories\",\n",
        "    yaxis_title=\"Values\"\n",
        ")\n",
        "\n",
        "# Show the plot\n",
        "fig.show()\n"
      ],
      "metadata": {
        "colab": {
          "base_uri": "https://localhost:8080/",
          "height": 542
        },
        "id": "G66aTNTEkx-X",
        "outputId": "c29dd118-1dea-4d47-9bcb-745e2b4ed231"
      },
      "execution_count": null,
      "outputs": [
        {
          "output_type": "display_data",
          "data": {
            "text/html": [
              "<html>\n",
              "<head><meta charset=\"utf-8\" /></head>\n",
              "<body>\n",
              "    <div>            <script src=\"https://cdnjs.cloudflare.com/ajax/libs/mathjax/2.7.5/MathJax.js?config=TeX-AMS-MML_SVG\"></script><script type=\"text/javascript\">if (window.MathJax && window.MathJax.Hub && window.MathJax.Hub.Config) {window.MathJax.Hub.Config({SVG: {font: \"STIX-Web\"}});}</script>                <script type=\"text/javascript\">window.PlotlyConfig = {MathJaxConfig: 'local'};</script>\n",
              "        <script charset=\"utf-8\" src=\"https://cdn.plot.ly/plotly-2.35.2.min.js\"></script>                <div id=\"3dff0f3a-7dae-4fa3-ad8d-ac51c3fb8974\" class=\"plotly-graph-div\" style=\"height:525px; width:100%;\"></div>            <script type=\"text/javascript\">                                    window.PLOTLYENV=window.PLOTLYENV || {};                                    if (document.getElementById(\"3dff0f3a-7dae-4fa3-ad8d-ac51c3fb8974\")) {                    Plotly.newPlot(                        \"3dff0f3a-7dae-4fa3-ad8d-ac51c3fb8974\",                        [{\"x\":[\"A\",\"B\",\"C\",\"D\",\"E\"],\"y\":[10,14,18,24,30],\"type\":\"bar\"}],                        {\"template\":{\"data\":{\"histogram2dcontour\":[{\"type\":\"histogram2dcontour\",\"colorbar\":{\"outlinewidth\":0,\"ticks\":\"\"},\"colorscale\":[[0.0,\"#0d0887\"],[0.1111111111111111,\"#46039f\"],[0.2222222222222222,\"#7201a8\"],[0.3333333333333333,\"#9c179e\"],[0.4444444444444444,\"#bd3786\"],[0.5555555555555556,\"#d8576b\"],[0.6666666666666666,\"#ed7953\"],[0.7777777777777778,\"#fb9f3a\"],[0.8888888888888888,\"#fdca26\"],[1.0,\"#f0f921\"]]}],\"choropleth\":[{\"type\":\"choropleth\",\"colorbar\":{\"outlinewidth\":0,\"ticks\":\"\"}}],\"histogram2d\":[{\"type\":\"histogram2d\",\"colorbar\":{\"outlinewidth\":0,\"ticks\":\"\"},\"colorscale\":[[0.0,\"#0d0887\"],[0.1111111111111111,\"#46039f\"],[0.2222222222222222,\"#7201a8\"],[0.3333333333333333,\"#9c179e\"],[0.4444444444444444,\"#bd3786\"],[0.5555555555555556,\"#d8576b\"],[0.6666666666666666,\"#ed7953\"],[0.7777777777777778,\"#fb9f3a\"],[0.8888888888888888,\"#fdca26\"],[1.0,\"#f0f921\"]]}],\"heatmap\":[{\"type\":\"heatmap\",\"colorbar\":{\"outlinewidth\":0,\"ticks\":\"\"},\"colorscale\":[[0.0,\"#0d0887\"],[0.1111111111111111,\"#46039f\"],[0.2222222222222222,\"#7201a8\"],[0.3333333333333333,\"#9c179e\"],[0.4444444444444444,\"#bd3786\"],[0.5555555555555556,\"#d8576b\"],[0.6666666666666666,\"#ed7953\"],[0.7777777777777778,\"#fb9f3a\"],[0.8888888888888888,\"#fdca26\"],[1.0,\"#f0f921\"]]}],\"heatmapgl\":[{\"type\":\"heatmapgl\",\"colorbar\":{\"outlinewidth\":0,\"ticks\":\"\"},\"colorscale\":[[0.0,\"#0d0887\"],[0.1111111111111111,\"#46039f\"],[0.2222222222222222,\"#7201a8\"],[0.3333333333333333,\"#9c179e\"],[0.4444444444444444,\"#bd3786\"],[0.5555555555555556,\"#d8576b\"],[0.6666666666666666,\"#ed7953\"],[0.7777777777777778,\"#fb9f3a\"],[0.8888888888888888,\"#fdca26\"],[1.0,\"#f0f921\"]]}],\"contourcarpet\":[{\"type\":\"contourcarpet\",\"colorbar\":{\"outlinewidth\":0,\"ticks\":\"\"}}],\"contour\":[{\"type\":\"contour\",\"colorbar\":{\"outlinewidth\":0,\"ticks\":\"\"},\"colorscale\":[[0.0,\"#0d0887\"],[0.1111111111111111,\"#46039f\"],[0.2222222222222222,\"#7201a8\"],[0.3333333333333333,\"#9c179e\"],[0.4444444444444444,\"#bd3786\"],[0.5555555555555556,\"#d8576b\"],[0.6666666666666666,\"#ed7953\"],[0.7777777777777778,\"#fb9f3a\"],[0.8888888888888888,\"#fdca26\"],[1.0,\"#f0f921\"]]}],\"surface\":[{\"type\":\"surface\",\"colorbar\":{\"outlinewidth\":0,\"ticks\":\"\"},\"colorscale\":[[0.0,\"#0d0887\"],[0.1111111111111111,\"#46039f\"],[0.2222222222222222,\"#7201a8\"],[0.3333333333333333,\"#9c179e\"],[0.4444444444444444,\"#bd3786\"],[0.5555555555555556,\"#d8576b\"],[0.6666666666666666,\"#ed7953\"],[0.7777777777777778,\"#fb9f3a\"],[0.8888888888888888,\"#fdca26\"],[1.0,\"#f0f921\"]]}],\"mesh3d\":[{\"type\":\"mesh3d\",\"colorbar\":{\"outlinewidth\":0,\"ticks\":\"\"}}],\"scatter\":[{\"fillpattern\":{\"fillmode\":\"overlay\",\"size\":10,\"solidity\":0.2},\"type\":\"scatter\"}],\"parcoords\":[{\"type\":\"parcoords\",\"line\":{\"colorbar\":{\"outlinewidth\":0,\"ticks\":\"\"}}}],\"scatterpolargl\":[{\"type\":\"scatterpolargl\",\"marker\":{\"colorbar\":{\"outlinewidth\":0,\"ticks\":\"\"}}}],\"bar\":[{\"error_x\":{\"color\":\"#2a3f5f\"},\"error_y\":{\"color\":\"#2a3f5f\"},\"marker\":{\"line\":{\"color\":\"#E5ECF6\",\"width\":0.5},\"pattern\":{\"fillmode\":\"overlay\",\"size\":10,\"solidity\":0.2}},\"type\":\"bar\"}],\"scattergeo\":[{\"type\":\"scattergeo\",\"marker\":{\"colorbar\":{\"outlinewidth\":0,\"ticks\":\"\"}}}],\"scatterpolar\":[{\"type\":\"scatterpolar\",\"marker\":{\"colorbar\":{\"outlinewidth\":0,\"ticks\":\"\"}}}],\"histogram\":[{\"marker\":{\"pattern\":{\"fillmode\":\"overlay\",\"size\":10,\"solidity\":0.2}},\"type\":\"histogram\"}],\"scattergl\":[{\"type\":\"scattergl\",\"marker\":{\"colorbar\":{\"outlinewidth\":0,\"ticks\":\"\"}}}],\"scatter3d\":[{\"type\":\"scatter3d\",\"line\":{\"colorbar\":{\"outlinewidth\":0,\"ticks\":\"\"}},\"marker\":{\"colorbar\":{\"outlinewidth\":0,\"ticks\":\"\"}}}],\"scattermapbox\":[{\"type\":\"scattermapbox\",\"marker\":{\"colorbar\":{\"outlinewidth\":0,\"ticks\":\"\"}}}],\"scatterternary\":[{\"type\":\"scatterternary\",\"marker\":{\"colorbar\":{\"outlinewidth\":0,\"ticks\":\"\"}}}],\"scattercarpet\":[{\"type\":\"scattercarpet\",\"marker\":{\"colorbar\":{\"outlinewidth\":0,\"ticks\":\"\"}}}],\"carpet\":[{\"aaxis\":{\"endlinecolor\":\"#2a3f5f\",\"gridcolor\":\"white\",\"linecolor\":\"white\",\"minorgridcolor\":\"white\",\"startlinecolor\":\"#2a3f5f\"},\"baxis\":{\"endlinecolor\":\"#2a3f5f\",\"gridcolor\":\"white\",\"linecolor\":\"white\",\"minorgridcolor\":\"white\",\"startlinecolor\":\"#2a3f5f\"},\"type\":\"carpet\"}],\"table\":[{\"cells\":{\"fill\":{\"color\":\"#EBF0F8\"},\"line\":{\"color\":\"white\"}},\"header\":{\"fill\":{\"color\":\"#C8D4E3\"},\"line\":{\"color\":\"white\"}},\"type\":\"table\"}],\"barpolar\":[{\"marker\":{\"line\":{\"color\":\"#E5ECF6\",\"width\":0.5},\"pattern\":{\"fillmode\":\"overlay\",\"size\":10,\"solidity\":0.2}},\"type\":\"barpolar\"}],\"pie\":[{\"automargin\":true,\"type\":\"pie\"}]},\"layout\":{\"autotypenumbers\":\"strict\",\"colorway\":[\"#636efa\",\"#EF553B\",\"#00cc96\",\"#ab63fa\",\"#FFA15A\",\"#19d3f3\",\"#FF6692\",\"#B6E880\",\"#FF97FF\",\"#FECB52\"],\"font\":{\"color\":\"#2a3f5f\"},\"hovermode\":\"closest\",\"hoverlabel\":{\"align\":\"left\"},\"paper_bgcolor\":\"white\",\"plot_bgcolor\":\"#E5ECF6\",\"polar\":{\"bgcolor\":\"#E5ECF6\",\"angularaxis\":{\"gridcolor\":\"white\",\"linecolor\":\"white\",\"ticks\":\"\"},\"radialaxis\":{\"gridcolor\":\"white\",\"linecolor\":\"white\",\"ticks\":\"\"}},\"ternary\":{\"bgcolor\":\"#E5ECF6\",\"aaxis\":{\"gridcolor\":\"white\",\"linecolor\":\"white\",\"ticks\":\"\"},\"baxis\":{\"gridcolor\":\"white\",\"linecolor\":\"white\",\"ticks\":\"\"},\"caxis\":{\"gridcolor\":\"white\",\"linecolor\":\"white\",\"ticks\":\"\"}},\"coloraxis\":{\"colorbar\":{\"outlinewidth\":0,\"ticks\":\"\"}},\"colorscale\":{\"sequential\":[[0.0,\"#0d0887\"],[0.1111111111111111,\"#46039f\"],[0.2222222222222222,\"#7201a8\"],[0.3333333333333333,\"#9c179e\"],[0.4444444444444444,\"#bd3786\"],[0.5555555555555556,\"#d8576b\"],[0.6666666666666666,\"#ed7953\"],[0.7777777777777778,\"#fb9f3a\"],[0.8888888888888888,\"#fdca26\"],[1.0,\"#f0f921\"]],\"sequentialminus\":[[0.0,\"#0d0887\"],[0.1111111111111111,\"#46039f\"],[0.2222222222222222,\"#7201a8\"],[0.3333333333333333,\"#9c179e\"],[0.4444444444444444,\"#bd3786\"],[0.5555555555555556,\"#d8576b\"],[0.6666666666666666,\"#ed7953\"],[0.7777777777777778,\"#fb9f3a\"],[0.8888888888888888,\"#fdca26\"],[1.0,\"#f0f921\"]],\"diverging\":[[0,\"#8e0152\"],[0.1,\"#c51b7d\"],[0.2,\"#de77ae\"],[0.3,\"#f1b6da\"],[0.4,\"#fde0ef\"],[0.5,\"#f7f7f7\"],[0.6,\"#e6f5d0\"],[0.7,\"#b8e186\"],[0.8,\"#7fbc41\"],[0.9,\"#4d9221\"],[1,\"#276419\"]]},\"xaxis\":{\"gridcolor\":\"white\",\"linecolor\":\"white\",\"ticks\":\"\",\"title\":{\"standoff\":15},\"zerolinecolor\":\"white\",\"automargin\":true,\"zerolinewidth\":2},\"yaxis\":{\"gridcolor\":\"white\",\"linecolor\":\"white\",\"ticks\":\"\",\"title\":{\"standoff\":15},\"zerolinecolor\":\"white\",\"automargin\":true,\"zerolinewidth\":2},\"scene\":{\"xaxis\":{\"backgroundcolor\":\"#E5ECF6\",\"gridcolor\":\"white\",\"linecolor\":\"white\",\"showbackground\":true,\"ticks\":\"\",\"zerolinecolor\":\"white\",\"gridwidth\":2},\"yaxis\":{\"backgroundcolor\":\"#E5ECF6\",\"gridcolor\":\"white\",\"linecolor\":\"white\",\"showbackground\":true,\"ticks\":\"\",\"zerolinecolor\":\"white\",\"gridwidth\":2},\"zaxis\":{\"backgroundcolor\":\"#E5ECF6\",\"gridcolor\":\"white\",\"linecolor\":\"white\",\"showbackground\":true,\"ticks\":\"\",\"zerolinecolor\":\"white\",\"gridwidth\":2}},\"shapedefaults\":{\"line\":{\"color\":\"#2a3f5f\"}},\"annotationdefaults\":{\"arrowcolor\":\"#2a3f5f\",\"arrowhead\":0,\"arrowwidth\":1},\"geo\":{\"bgcolor\":\"white\",\"landcolor\":\"#E5ECF6\",\"subunitcolor\":\"white\",\"showland\":true,\"showlakes\":true,\"lakecolor\":\"white\"},\"title\":{\"x\":0.05},\"mapbox\":{\"style\":\"light\"}}},\"title\":{\"text\":\"Sample Bar Plot\"},\"xaxis\":{\"title\":{\"text\":\"Categories\"}},\"yaxis\":{\"title\":{\"text\":\"Values\"}}},                        {\"responsive\": true}                    ).then(function(){\n",
              "                            \n",
              "var gd = document.getElementById('3dff0f3a-7dae-4fa3-ad8d-ac51c3fb8974');\n",
              "var x = new MutationObserver(function (mutations, observer) {{\n",
              "        var display = window.getComputedStyle(gd).display;\n",
              "        if (!display || display === 'none') {{\n",
              "            console.log([gd, 'removed!']);\n",
              "            Plotly.purge(gd);\n",
              "            observer.disconnect();\n",
              "        }}\n",
              "}});\n",
              "\n",
              "// Listen for the removal of the full notebook cells\n",
              "var notebookContainer = gd.closest('#notebook-container');\n",
              "if (notebookContainer) {{\n",
              "    x.observe(notebookContainer, {childList: true});\n",
              "}}\n",
              "\n",
              "// Listen for the clearing of the current output cell\n",
              "var outputEl = gd.closest('.output');\n",
              "if (outputEl) {{\n",
              "    x.observe(outputEl, {childList: true});\n",
              "}}\n",
              "\n",
              "                        })                };                            </script>        </div>\n",
              "</body>\n",
              "</html>"
            ]
          },
          "metadata": {}
        }
      ]
    },
    {
      "cell_type": "code",
      "source": [
        "import pandas as pd\n",
        "\n",
        "# Create a DataFrame\n",
        "data = {'A': [1, 2, 3, 4, 5]}\n",
        "df = pd.DataFrame(data)\n",
        "\n",
        "# Add a new column 'B' based on column 'A'\n",
        "df['B'] = df['A'] * 2  # You can modify the operation based on your requirement\n",
        "\n",
        "# Display the DataFrame\n",
        "print(df)\n"
      ],
      "metadata": {
        "colab": {
          "base_uri": "https://localhost:8080/"
        },
        "id": "_MvKJ88Ok-x6",
        "outputId": "38acdcad-dc88-47b8-8da5-6cd5209adb89"
      },
      "execution_count": null,
      "outputs": [
        {
          "output_type": "stream",
          "name": "stdout",
          "text": [
            "   A   B\n",
            "0  1   2\n",
            "1  2   4\n",
            "2  3   6\n",
            "3  4   8\n",
            "4  5  10\n"
          ]
        }
      ]
    },
    {
      "cell_type": "code",
      "source": [
        "import numpy as np\n",
        "\n",
        "# Create two NumPy arrays\n",
        "array1 = np.array([1, 2, 3, 4])\n",
        "array2 = np.array([5, 6, 7, 8])\n",
        "\n",
        "# Perform element-wise multiplication\n",
        "result = array1 * array2\n",
        "\n",
        "# Print the result\n",
        "print(\"Result of element-wise multiplication:\", result)\n"
      ],
      "metadata": {
        "colab": {
          "base_uri": "https://localhost:8080/"
        },
        "id": "OKjybrhtlMLI",
        "outputId": "4a3fb557-3b63-4845-b643-263ea868e23b"
      },
      "execution_count": null,
      "outputs": [
        {
          "output_type": "stream",
          "name": "stdout",
          "text": [
            "Result of element-wise multiplication: [ 5 12 21 32]\n"
          ]
        }
      ]
    },
    {
      "cell_type": "code",
      "source": [
        "import matplotlib.pyplot as plt\n",
        "\n",
        "# Sample data for plotting\n",
        "x = [0, 1, 2, 3, 4, 5]\n",
        "y1 = [0, 1, 4, 9, 16, 25]  # Line 1\n",
        "y2 = [0, 1, 2, 3, 4, 5]     # Line 2\n",
        "y3 = [0, 1, 3, 6, 10, 15]   # Line 3\n",
        "\n",
        "# Create a line plot with multiple lines\n",
        "plt.plot(x, y1, label='y = x^2', color='r', marker='o')  # Line 1 (Red with circles)\n",
        "plt.plot(x, y2, label='y = x', color='g', marker='s')    # Line 2 (Green with squares)\n",
        "plt.plot(x, y3, label='y = x(x+1)/2', color='b', marker='^')  # Line 3 (Blue with triangles)\n",
        "\n",
        "# Add labels and title\n",
        "plt.xlabel('X axis')\n",
        "plt.ylabel('Y axis')\n",
        "plt.title('Multiple Lines on a Line Plot')\n",
        "\n",
        "# Add legend\n",
        "plt.legend()\n",
        "\n",
        "# Display the plot\n",
        "plt.show()\n"
      ],
      "metadata": {
        "colab": {
          "base_uri": "https://localhost:8080/",
          "height": 472
        },
        "id": "NNPda1C3lX0N",
        "outputId": "7ed3e7c7-be85-47e3-bd7f-72116583d971"
      },
      "execution_count": null,
      "outputs": [
        {
          "output_type": "display_data",
          "data": {
            "text/plain": [
              "<Figure size 640x480 with 1 Axes>"
            ],
            "image/png": "[encoded data removed]"
          },
          "metadata": {}
        }
      ]
    },
    {
      "cell_type": "code",
      "source": [
        "import pandas as pd\n",
        "\n",
        "# Create a sample DataFrame\n",
        "data = {\n",
        "    'Name': ['Alice', 'Bob', 'Charlie', 'David', 'Eve'],\n",
        "    'Age': [24, 30, 22, 35, 28],\n",
        "    'Salary': [50000, 60000, 45000, 80000, 55000]\n",
        "}\n",
        "\n",
        "df = pd.DataFrame(data)\n",
        "\n",
        "# Set the threshold\n",
        "threshold_age = 25\n",
        "\n",
        "# Filter rows where 'Age' is greater than the threshold\n",
        "filtered_df = df[df['Age'] > threshold_age]\n",
        "\n",
        "# Display the filtered DataFrame\n",
        "print(filtered_df)\n"
      ],
      "metadata": {
        "colab": {
          "base_uri": "https://localhost:8080/"
        },
        "id": "6gYk_8O_lxuK",
        "outputId": "e67ae365-8ff0-4e82-f5c2-5ea2f34a315a"
      },
      "execution_count": null,
      "outputs": [
        {
          "output_type": "stream",
          "name": "stdout",
          "text": [
            "    Name  Age  Salary\n",
            "1    Bob   30   60000\n",
            "3  David   35   80000\n",
            "4    Eve   28   55000\n"
          ]
        }
      ]
    },
    {
      "cell_type": "code",
      "source": [
        "import seaborn as sns\n",
        "import matplotlib.pyplot as plt\n",
        "\n",
        "# Sample data\n",
        "data = sns.load_dataset('tips')  # Using Seaborn's built-in 'tips' dataset\n",
        "\n",
        "# Create a histogram of the 'total_bill' column from the 'tips' dataset\n",
        "sns.histplot(data['total_bill'], kde=True)  # kde=True adds a kernel density estimate curve\n",
        "\n",
        "# Set labels and title\n",
        "plt.xlabel('Total Bill ($)')\n",
        "plt.ylabel('Frequency')\n",
        "plt.title('Histogram of Total Bill Amount')\n",
        "\n",
        "# Show the plot\n",
        "plt.show()\n"
      ],
      "metadata": {
        "colab": {
          "base_uri": "https://localhost:8080/",
          "height": 472
        },
        "id": "qZVskvLml89l",
        "outputId": "c7eddfe4-bb62-4db2-dd89-b1ab9505c269"
      },
      "execution_count": null,
      "outputs": [
        {
          "output_type": "display_data",
          "data": {
            "text/plain": [
              "<Figure size 640x480 with 1 Axes>"
            ],
            "image/png": "[encoded data removed]"
          },
          "metadata": {}
        }
      ]
    },
    {
      "cell_type": "code",
      "source": [
        "import numpy as np\n",
        "\n",
        "# Create two matrices\n",
        "A = np.array([[1, 2], [3, 4]])\n",
        "B = np.array([[5, 6], [7, 8]])\n",
        "\n",
        "# Matrix multiplication\n",
        "C = A @ B  # or you can use np.matmul(A, B)\n",
        "\n",
        "# Print the result\n",
        "print(\"Result of matrix multiplication:\\n\", C)\n"
      ],
      "metadata": {
        "colab": {
          "base_uri": "https://localhost:8080/"
        },
        "id": "Rjzo_TK6nUj_",
        "outputId": "4f592a8b-2a25-4548-99d0-c535f8d707ba"
      },
      "execution_count": null,
      "outputs": [
        {
          "output_type": "stream",
          "name": "stdout",
          "text": [
            "Result of matrix multiplication:\n",
            " [[19 22]\n",
            " [43 50]]\n"
          ]
        }
      ]
    },
    {
      "cell_type": "code",
      "source": [
        "import plotly.express as px\n",
        "import pandas as pd\n",
        "import numpy as np\n",
        "\n",
        "# Create some sample data\n",
        "np.random.seed(42)\n",
        "data = pd.DataFrame({\n",
        "    'x': np.random.rand(100),\n",
        "    'y': np.random.rand(100),\n",
        "    'z': np.random.rand(100),\n",
        "    'color': np.random.rand(100)\n",
        "})\n",
        "\n",
        "# Create a 3D scatter plot\n",
        "fig = px.scatter_3d(data, x='x', y='y', z='z', color='color',\n",
        "                    title='3D Scatter Plot', labels={'x': 'X Axis', 'y': 'Y Axis', 'z': 'Z Axis'})\n",
        "\n",
        "# Show the plot\n",
        "fig.show()\n"
      ],
      "metadata": {
        "colab": {
          "base_uri": "https://localhost:8080/",
          "height": 542
        },
        "id": "R7Xh1suXn4Da",
        "outputId": "42f7db52-08f5-4f94-a3d9-9311d51fc5ab"
      },
      "execution_count": null,
      "outputs": [
        {
          "output_type": "display_data",
          "data": {
            "text/html": [
              "<html>\n",
              "<head><meta charset=\"utf-8\" /></head>\n",
              "<body>\n",
              "    <div>            <script src=\"https://cdnjs.cloudflare.com/ajax/libs/mathjax/2.7.5/MathJax.js?config=TeX-AMS-MML_SVG\"></script><script type=\"text/javascript\">if (window.MathJax && window.MathJax.Hub && window.MathJax.Hub.Config) {window.MathJax.Hub.Config({SVG: {font: \"STIX-Web\"}});}</script>                <script type=\"text/javascript\">window.PlotlyConfig = {MathJaxConfig: 'local'};</script>\n",
              "        <script charset=\"utf-8\" src=\"https://cdn.plot.ly/plotly-2.35.2.min.js\"></script>                <div id=\"2e75b0c6-f218-4600-a303-eb81a22fbe7e\" class=\"plotly-graph-div\" style=\"height:525px; width:100%;\"></div>            <script type=\"text/javascript\">                                    window.PLOTLYENV=window.PLOTLYENV || {};                                    if (document.getElementById(\"2e75b0c6-f218-4600-a303-eb81a22fbe7e\")) {                    Plotly.newPlot(                        \"2e75b0c6-f218-4600-a303-eb81a22fbe7e\",                        [{\"hovertemplate\":\"X Axis=%{x}\\u003cbr\\u003eY Axis=%{y}\\u003cbr\\u003eZ Axis=%{z}\\u003cbr\\u003ecolor=%{marker.color}\\u003cextra\\u003e\\u003c\\u002fextra\\u003e\",\"legendgroup\":\"\",\"marker\":{\"color\":[0.0516817211686077,0.531354631568148,0.5406351216101065,0.6374299014982066,0.7260913337226615,0.9758520794625346,0.5163003483011953,0.32295647294124596,0.7951861947687037,0.2708322512620742,0.4389714207056361,0.07845638134226596,0.02535074341545751,0.9626484146779251,0.8359801205122058,0.695974206093698,0.4089529444142699,0.17329432007084578,0.15643704267108605,0.25024289816459533,0.5492266647061205,0.7145959227000623,0.6601973767177313,0.27993389694594284,0.9548652806631941,0.7378969166957685,0.5543540525114007,0.6117207462343522,0.4196000624277899,0.24773098950115746,0.3559726786512616,0.7578461104643691,0.014393488629755868,0.11607264050691624,0.04600264202175275,0.040728802318970136,0.8554605840110072,0.7036578593800237,0.4741738290873252,0.09783416065100148,0.49161587511683236,0.4734717707805657,0.17320186991001518,0.43385164923797304,0.39850473439737344,0.6158500980522165,0.6350936508676438,0.04530400977204452,0.3746126146264712,0.6258599157142364,0.5031362585800877,0.8564898411883223,0.658693631618945,0.1629344270814297,0.07056874740042984,0.6424192782063156,0.026511310541621813,0.5857755812734633,0.9402302414249576,0.575474177875879,0.3881699262065219,0.6432882184423532,0.45825289049151663,0.5456167893159349,0.9414648087765252,0.38610263780077425,0.9611905638239142,0.9053506419560637,0.19579113478929644,0.06936130087516545,0.10077800137742665,0.018221825651549728,0.0944429607559284,0.6830067734163568,0.07118864846022899,0.3189756302937613,0.8448753109694546,0.023271935735825866,0.8144684825889358,0.28185477477339993,0.11816482762165625,0.6967371653641506,0.628942846779884,0.877472013527053,0.7350710438038858,0.8034809303848486,0.2820345725713065,0.17743954377972282,0.7506147516408583,0.806834739267264,0.9905051420006733,0.4126176769114265,0.37201808579278317,0.7764129607419968,0.34080354025301784,0.9307573256035647,0.8584127518430118,0.42899402737501835,0.7508710677914974,0.7545428740846823],\"coloraxis\":\"coloraxis\",\"symbol\":\"circle\"},\"mode\":\"markers\",\"name\":\"\",\"scene\":\"scene\",\"showlegend\":false,\"x\":[0.3745401188473625,0.9507143064099162,0.7319939418114051,0.5986584841970366,0.15601864044243652,0.15599452033620265,0.05808361216819946,0.8661761457749352,0.6011150117432088,0.7080725777960455,0.020584494295802447,0.9699098521619943,0.8324426408004217,0.21233911067827616,0.18182496720710062,0.18340450985343382,0.3042422429595377,0.5247564316322378,0.43194501864211576,0.2912291401980419,0.6118528947223795,0.13949386065204183,0.29214464853521815,0.3663618432936917,0.45606998421703593,0.7851759613930136,0.19967378215835974,0.5142344384136116,0.5924145688620425,0.046450412719997725,0.6075448519014384,0.17052412368729153,0.06505159298527952,0.9488855372533332,0.9656320330745594,0.8083973481164611,0.3046137691733707,0.09767211400638387,0.6842330265121569,0.4401524937396013,0.12203823484477883,0.4951769101112702,0.034388521115218396,0.9093204020787821,0.2587799816000169,0.662522284353982,0.31171107608941095,0.5200680211778108,0.5467102793432796,0.18485445552552704,0.9695846277645586,0.7751328233611146,0.9394989415641891,0.8948273504276488,0.5978999788110851,0.9218742350231168,0.0884925020519195,0.1959828624191452,0.045227288910538066,0.32533033076326434,0.388677289689482,0.2713490317738959,0.8287375091519293,0.3567533266935893,0.28093450968738076,0.5426960831582485,0.14092422497476265,0.8021969807540397,0.07455064367977082,0.9868869366005173,0.7722447692966574,0.1987156815341724,0.005522117123602399,0.8154614284548342,0.7068573438476171,0.7290071680409873,0.7712703466859457,0.07404465173409036,0.3584657285442726,0.11586905952512971,0.8631034258755935,0.6232981268275579,0.3308980248526492,0.06355835028602363,0.3109823217156622,0.32518332202674705,0.7296061783380641,0.6375574713552131,0.8872127425763265,0.4722149251619493,0.1195942459383017,0.713244787222995,0.7607850486168974,0.5612771975694962,0.770967179954561,0.49379559636439074,0.5227328293819941,0.42754101835854963,0.02541912674409519,0.10789142699330445],\"y\":[0.03142918568673425,0.6364104112637804,0.3143559810763267,0.5085706911647028,0.907566473926093,0.24929222914887494,0.41038292303562973,0.7555511385430487,0.22879816549162246,0.07697990982879299,0.289751452913768,0.16122128725400442,0.9296976523425731,0.808120379564417,0.6334037565104235,0.8714605901877177,0.8036720768991145,0.18657005888603584,0.8925589984899778,0.5393422419156507,0.8074401551640625,0.8960912999234932,0.3180034749718639,0.11005192452767676,0.22793516254194168,0.4271077886262563,0.8180147659224931,0.8607305832563434,0.006952130531190703,0.5107473025775657,0.417411003148779,0.22210781047073025,0.1198653673336828,0.33761517140362796,0.9429097039125192,0.32320293202075523,0.5187906217433661,0.7030189588951778,0.363629602379294,0.9717820827209607,0.9624472949421112,0.25178229582536416,0.49724850589238545,0.30087830981676966,0.2848404943774676,0.036886947354532795,0.6095643339798968,0.5026790232288615,0.05147875124998935,0.27864646423661144,0.9082658859666537,0.23956189066697242,0.1448948720912231,0.489452760277563,0.9856504541106007,0.2420552715115004,0.6721355474058786,0.7616196153287176,0.23763754399239967,0.7282163486118596,0.3677831327192532,0.6323058305935795,0.6335297107608947,0.5357746840747585,0.0902897700544083,0.835302495589238,0.32078006497173583,0.18651851039985423,0.040775141554763916,0.5908929431882418,0.6775643618422824,0.016587828927856152,0.512093058299281,0.22649577519793795,0.6451727904094499,0.17436642900499144,0.690937738102466,0.3867353463005374,0.9367299887367345,0.13752094414599325,0.3410663510502585,0.11347352124058907,0.9246936182785628,0.877339353380981,0.2579416277151556,0.659984046034179,0.8172222002012158,0.5552008115994623,0.5296505783560065,0.24185229090045168,0.09310276780589921,0.8972157579533268,0.9004180571633305,0.6331014572732679,0.3390297910487007,0.3492095746126609,0.7259556788702394,0.8971102599525771,0.8870864242651173,0.7798755458576239],\"z\":[0.6420316461542878,0.08413996499504883,0.16162871409461377,0.8985541885270792,0.6064290596595899,0.009197051616629648,0.1014715428660321,0.6635017691080558,0.005061583846218687,0.16080805141749865,0.5487337893665861,0.6918951976926933,0.6519612595026005,0.22426930946055978,0.7121792213475359,0.23724908749680007,0.3253996981592677,0.7464914051180241,0.6496328990472147,0.8492234104941779,0.6576128923003434,0.5683086033354716,0.09367476782809248,0.3677158030594335,0.26520236768172545,0.24398964337908358,0.9730105547524456,0.3930977246667604,0.8920465551771133,0.6311386259972629,0.7948113035416484,0.5026370931051921,0.5769038846263591,0.4925176938188639,0.1952429877980445,0.7224521152615053,0.2807723624408558,0.02431596643145384,0.6454722959071678,0.17711067940704894,0.9404585843529143,0.9539285770025874,0.9148643902204485,0.3701587002554444,0.015456616528867428,0.9283185625877254,0.42818414831731433,0.9666548190436696,0.9636199770892528,0.8530094554673601,0.2944488920695857,0.38509772860192526,0.8511366715168569,0.31692200515627766,0.1694927466860925,0.5568012624583502,0.936154774160781,0.696029796674973,0.570061170089365,0.09717649377076854,0.6150072266991697,0.9900538501042633,0.14008401523652403,0.5183296523637367,0.8773730719279554,0.7407686177542044,0.697015740995268,0.7024840839871093,0.35949115121975517,0.29359184426449336,0.8093611554785136,0.8101133946791808,0.8670723185801037,0.9132405525564713,0.5113423988609378,0.5015162946871996,0.7982951789667752,0.6499639307777652,0.7019668772577033,0.795792669436101,0.8900053418175663,0.3379951568515358,0.375582952639944,0.093981939840869,0.578280140996174,0.035942273796742086,0.46559801813246016,0.5426446347075766,0.2865412521282844,0.5908332605690108,0.03050024993904943,0.03734818874921442,0.8226005606596583,0.3601906414112629,0.12706051265188478,0.5222432600548044,0.7699935530986108,0.21582102749684318,0.6228904758190003,0.085347464993768],\"type\":\"scatter3d\"}],                        {\"template\":{\"data\":{\"histogram2dcontour\":[{\"type\":\"histogram2dcontour\",\"colorbar\":{\"outlinewidth\":0,\"ticks\":\"\"},\"colorscale\":[[0.0,\"#0d0887\"],[0.1111111111111111,\"#46039f\"],[0.2222222222222222,\"#7201a8\"],[0.3333333333333333,\"#9c179e\"],[0.4444444444444444,\"#bd3786\"],[0.5555555555555556,\"#d8576b\"],[0.6666666666666666,\"#ed7953\"],[0.7777777777777778,\"#fb9f3a\"],[0.8888888888888888,\"#fdca26\"],[1.0,\"#f0f921\"]]}],\"choropleth\":[{\"type\":\"choropleth\",\"colorbar\":{\"outlinewidth\":0,\"ticks\":\"\"}}],\"histogram2d\":[{\"type\":\"histogram2d\",\"colorbar\":{\"outlinewidth\":0,\"ticks\":\"\"},\"colorscale\":[[0.0,\"#0d0887\"],[0.1111111111111111,\"#46039f\"],[0.2222222222222222,\"#7201a8\"],[0.3333333333333333,\"#9c179e\"],[0.4444444444444444,\"#bd3786\"],[0.5555555555555556,\"#d8576b\"],[0.6666666666666666,\"#ed7953\"],[0.7777777777777778,\"#fb9f3a\"],[0.8888888888888888,\"#fdca26\"],[1.0,\"#f0f921\"]]}],\"heatmap\":[{\"type\":\"heatmap\",\"colorbar\":{\"outlinewidth\":0,\"ticks\":\"\"},\"colorscale\":[[0.0,\"#0d0887\"],[0.1111111111111111,\"#46039f\"],[0.2222222222222222,\"#7201a8\"],[0.3333333333333333,\"#9c179e\"],[0.4444444444444444,\"#bd3786\"],[0.5555555555555556,\"#d8576b\"],[0.6666666666666666,\"#ed7953\"],[0.7777777777777778,\"#fb9f3a\"],[0.8888888888888888,\"#fdca26\"],[1.0,\"#f0f921\"]]}],\"heatmapgl\":[{\"type\":\"heatmapgl\",\"colorbar\":{\"outlinewidth\":0,\"ticks\":\"\"},\"colorscale\":[[0.0,\"#0d0887\"],[0.1111111111111111,\"#46039f\"],[0.2222222222222222,\"#7201a8\"],[0.3333333333333333,\"#9c179e\"],[0.4444444444444444,\"#bd3786\"],[0.5555555555555556,\"#d8576b\"],[0.6666666666666666,\"#ed7953\"],[0.7777777777777778,\"#fb9f3a\"],[0.8888888888888888,\"#fdca26\"],[1.0,\"#f0f921\"]]}],\"contourcarpet\":[{\"type\":\"contourcarpet\",\"colorbar\":{\"outlinewidth\":0,\"ticks\":\"\"}}],\"contour\":[{\"type\":\"contour\",\"colorbar\":{\"outlinewidth\":0,\"ticks\":\"\"},\"colorscale\":[[0.0,\"#0d0887\"],[0.1111111111111111,\"#46039f\"],[0.2222222222222222,\"#7201a8\"],[0.3333333333333333,\"#9c179e\"],[0.4444444444444444,\"#bd3786\"],[0.5555555555555556,\"#d8576b\"],[0.6666666666666666,\"#ed7953\"],[0.7777777777777778,\"#fb9f3a\"],[0.8888888888888888,\"#fdca26\"],[1.0,\"#f0f921\"]]}],\"surface\":[{\"type\":\"surface\",\"colorbar\":{\"outlinewidth\":0,\"ticks\":\"\"},\"colorscale\":[[0.0,\"#0d0887\"],[0.1111111111111111,\"#46039f\"],[0.2222222222222222,\"#7201a8\"],[0.3333333333333333,\"#9c179e\"],[0.4444444444444444,\"#bd3786\"],[0.5555555555555556,\"#d8576b\"],[0.6666666666666666,\"#ed7953\"],[0.7777777777777778,\"#fb9f3a\"],[0.8888888888888888,\"#fdca26\"],[1.0,\"#f0f921\"]]}],\"mesh3d\":[{\"type\":\"mesh3d\",\"colorbar\":{\"outlinewidth\":0,\"ticks\":\"\"}}],\"scatter\":[{\"fillpattern\":{\"fillmode\":\"overlay\",\"size\":10,\"solidity\":0.2},\"type\":\"scatter\"}],\"parcoords\":[{\"type\":\"parcoords\",\"line\":{\"colorbar\":{\"outlinewidth\":0,\"ticks\":\"\"}}}],\"scatterpolargl\":[{\"type\":\"scatterpolargl\",\"marker\":{\"colorbar\":{\"outlinewidth\":0,\"ticks\":\"\"}}}],\"bar\":[{\"error_x\":{\"color\":\"#2a3f5f\"},\"error_y\":{\"color\":\"#2a3f5f\"},\"marker\":{\"line\":{\"color\":\"#E5ECF6\",\"width\":0.5},\"pattern\":{\"fillmode\":\"overlay\",\"size\":10,\"solidity\":0.2}},\"type\":\"bar\"}],\"scattergeo\":[{\"type\":\"scattergeo\",\"marker\":{\"colorbar\":{\"outlinewidth\":0,\"ticks\":\"\"}}}],\"scatterpolar\":[{\"type\":\"scatterpolar\",\"marker\":{\"colorbar\":{\"outlinewidth\":0,\"ticks\":\"\"}}}],\"histogram\":[{\"marker\":{\"pattern\":{\"fillmode\":\"overlay\",\"size\":10,\"solidity\":0.2}},\"type\":\"histogram\"}],\"scattergl\":[{\"type\":\"scattergl\",\"marker\":{\"colorbar\":{\"outlinewidth\":0,\"ticks\":\"\"}}}],\"scatter3d\":[{\"type\":\"scatter3d\",\"line\":{\"colorbar\":{\"outlinewidth\":0,\"ticks\":\"\"}},\"marker\":{\"colorbar\":{\"outlinewidth\":0,\"ticks\":\"\"}}}],\"scattermapbox\":[{\"type\":\"scattermapbox\",\"marker\":{\"colorbar\":{\"outlinewidth\":0,\"ticks\":\"\"}}}],\"scatterternary\":[{\"type\":\"scatterternary\",\"marker\":{\"colorbar\":{\"outlinewidth\":0,\"ticks\":\"\"}}}],\"scattercarpet\":[{\"type\":\"scattercarpet\",\"marker\":{\"colorbar\":{\"outlinewidth\":0,\"ticks\":\"\"}}}],\"carpet\":[{\"aaxis\":{\"endlinecolor\":\"#2a3f5f\",\"gridcolor\":\"white\",\"linecolor\":\"white\",\"minorgridcolor\":\"white\",\"startlinecolor\":\"#2a3f5f\"},\"baxis\":{\"endlinecolor\":\"#2a3f5f\",\"gridcolor\":\"white\",\"linecolor\":\"white\",\"minorgridcolor\":\"white\",\"startlinecolor\":\"#2a3f5f\"},\"type\":\"carpet\"}],\"table\":[{\"cells\":{\"fill\":{\"color\":\"#EBF0F8\"},\"line\":{\"color\":\"white\"}},\"header\":{\"fill\":{\"color\":\"#C8D4E3\"},\"line\":{\"color\":\"white\"}},\"type\":\"table\"}],\"barpolar\":[{\"marker\":{\"line\":{\"color\":\"#E5ECF6\",\"width\":0.5},\"pattern\":{\"fillmode\":\"overlay\",\"size\":10,\"solidity\":0.2}},\"type\":\"barpolar\"}],\"pie\":[{\"automargin\":true,\"type\":\"pie\"}]},\"layout\":{\"autotypenumbers\":\"strict\",\"colorway\":[\"#636efa\",\"#EF553B\",\"#00cc96\",\"#ab63fa\",\"#FFA15A\",\"#19d3f3\",\"#FF6692\",\"#B6E880\",\"#FF97FF\",\"#FECB52\"],\"font\":{\"color\":\"#2a3f5f\"},\"hovermode\":\"closest\",\"hoverlabel\":{\"align\":\"left\"},\"paper_bgcolor\":\"white\",\"plot_bgcolor\":\"#E5ECF6\",\"polar\":{\"bgcolor\":\"#E5ECF6\",\"angularaxis\":{\"gridcolor\":\"white\",\"linecolor\":\"white\",\"ticks\":\"\"},\"radialaxis\":{\"gridcolor\":\"white\",\"linecolor\":\"white\",\"ticks\":\"\"}},\"ternary\":{\"bgcolor\":\"#E5ECF6\",\"aaxis\":{\"gridcolor\":\"white\",\"linecolor\":\"white\",\"ticks\":\"\"},\"baxis\":{\"gridcolor\":\"white\",\"linecolor\":\"white\",\"ticks\":\"\"},\"caxis\":{\"gridcolor\":\"white\",\"linecolor\":\"white\",\"ticks\":\"\"}},\"coloraxis\":{\"colorbar\":{\"outlinewidth\":0,\"ticks\":\"\"}},\"colorscale\":{\"sequential\":[[0.0,\"#0d0887\"],[0.1111111111111111,\"#46039f\"],[0.2222222222222222,\"#7201a8\"],[0.3333333333333333,\"#9c179e\"],[0.4444444444444444,\"#bd3786\"],[0.5555555555555556,\"#d8576b\"],[0.6666666666666666,\"#ed7953\"],[0.7777777777777778,\"#fb9f3a\"],[0.8888888888888888,\"#fdca26\"],[1.0,\"#f0f921\"]],\"sequentialminus\":[[0.0,\"#0d0887\"],[0.1111111111111111,\"#46039f\"],[0.2222222222222222,\"#7201a8\"],[0.3333333333333333,\"#9c179e\"],[0.4444444444444444,\"#bd3786\"],[0.5555555555555556,\"#d8576b\"],[0.6666666666666666,\"#ed7953\"],[0.7777777777777778,\"#fb9f3a\"],[0.8888888888888888,\"#fdca26\"],[1.0,\"#f0f921\"]],\"diverging\":[[0,\"#8e0152\"],[0.1,\"#c51b7d\"],[0.2,\"#de77ae\"],[0.3,\"#f1b6da\"],[0.4,\"#fde0ef\"],[0.5,\"#f7f7f7\"],[0.6,\"#e6f5d0\"],[0.7,\"#b8e186\"],[0.8,\"#7fbc41\"],[0.9,\"#4d9221\"],[1,\"#276419\"]]},\"xaxis\":{\"gridcolor\":\"white\",\"linecolor\":\"white\",\"ticks\":\"\",\"title\":{\"standoff\":15},\"zerolinecolor\":\"white\",\"automargin\":true,\"zerolinewidth\":2},\"yaxis\":{\"gridcolor\":\"white\",\"linecolor\":\"white\",\"ticks\":\"\",\"title\":{\"standoff\":15},\"zerolinecolor\":\"white\",\"automargin\":true,\"zerolinewidth\":2},\"scene\":{\"xaxis\":{\"backgroundcolor\":\"#E5ECF6\",\"gridcolor\":\"white\",\"linecolor\":\"white\",\"showbackground\":true,\"ticks\":\"\",\"zerolinecolor\":\"white\",\"gridwidth\":2},\"yaxis\":{\"backgroundcolor\":\"#E5ECF6\",\"gridcolor\":\"white\",\"linecolor\":\"white\",\"showbackground\":true,\"ticks\":\"\",\"zerolinecolor\":\"white\",\"gridwidth\":2},\"zaxis\":{\"backgroundcolor\":\"#E5ECF6\",\"gridcolor\":\"white\",\"linecolor\":\"white\",\"showbackground\":true,\"ticks\":\"\",\"zerolinecolor\":\"white\",\"gridwidth\":2}},\"shapedefaults\":{\"line\":{\"color\":\"#2a3f5f\"}},\"annotationdefaults\":{\"arrowcolor\":\"#2a3f5f\",\"arrowhead\":0,\"arrowwidth\":1},\"geo\":{\"bgcolor\":\"white\",\"landcolor\":\"#E5ECF6\",\"subunitcolor\":\"white\",\"showland\":true,\"showlakes\":true,\"lakecolor\":\"white\"},\"title\":{\"x\":0.05},\"mapbox\":{\"style\":\"light\"}}},\"scene\":{\"domain\":{\"x\":[0.0,1.0],\"y\":[0.0,1.0]},\"xaxis\":{\"title\":{\"text\":\"X Axis\"}},\"yaxis\":{\"title\":{\"text\":\"Y Axis\"}},\"zaxis\":{\"title\":{\"text\":\"Z Axis\"}}},\"coloraxis\":{\"colorbar\":{\"title\":{\"text\":\"color\"}},\"colorscale\":[[0.0,\"#0d0887\"],[0.1111111111111111,\"#46039f\"],[0.2222222222222222,\"#7201a8\"],[0.3333333333333333,\"#9c179e\"],[0.4444444444444444,\"#bd3786\"],[0.5555555555555556,\"#d8576b\"],[0.6666666666666666,\"#ed7953\"],[0.7777777777777778,\"#fb9f3a\"],[0.8888888888888888,\"#fdca26\"],[1.0,\"#f0f921\"]]},\"legend\":{\"tracegroupgap\":0},\"title\":{\"text\":\"3D Scatter Plot\"}},                        {\"responsive\": true}                    ).then(function(){\n",
              "                            \n",
              "var gd = document.getElementById('2e75b0c6-f218-4600-a303-eb81a22fbe7e');\n",
              "var x = new MutationObserver(function (mutations, observer) {{\n",
              "        var display = window.getComputedStyle(gd).display;\n",
              "        if (!display || display === 'none') {{\n",
              "            console.log([gd, 'removed!']);\n",
              "            Plotly.purge(gd);\n",
              "            observer.disconnect();\n",
              "        }}\n",
              "}});\n",
              "\n",
              "// Listen for the removal of the full notebook cells\n",
              "var notebookContainer = gd.closest('#notebook-container');\n",
              "if (notebookContainer) {{\n",
              "    x.observe(notebookContainer, {childList: true});\n",
              "}}\n",
              "\n",
              "// Listen for the clearing of the current output cell\n",
              "var outputEl = gd.closest('.output');\n",
              "if (outputEl) {{\n",
              "    x.observe(outputEl, {childList: true});\n",
              "}}\n",
              "\n",
              "                        })                };                            </script>        </div>\n",
              "</body>\n",
              "</html>"
            ]
          },
          "metadata": {}
        }
      ]
    },
    {
      "cell_type": "code",
      "source": [],
      "metadata": {
        "id": "4KahwxG5oMKN"
      },
      "execution_count": null,
      "outputs": []
    }
  ]
}